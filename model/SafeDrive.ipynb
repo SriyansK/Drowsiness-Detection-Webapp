{
 "metadata": {
  "language_info": {
   "codemirror_mode": {
    "name": "ipython",
    "version": 3
   },
   "file_extension": ".py",
   "mimetype": "text/x-python",
   "name": "python",
   "nbconvert_exporter": "python",
   "pygments_lexer": "ipython3",
   "version": "3.6.6"
  },
  "orig_nbformat": 2,
  "kernelspec": {
   "name": "python366jvsc74a57bd015eb641a46e671fc7c532d6fef8d020ee50a2a26247eca6bf61340e63cb2129c",
   "display_name": "Python 3.6.6 64-bit ('python-cvcourse')"
  }
 },
 "nbformat": 4,
 "nbformat_minor": 2,
 "cells": [
  {
   "cell_type": "code",
   "execution_count": null,
   "source": [
    "import os\r\n",
    "import matplotlib.pyplot as plt\r\n",
    "import cv2\r\n",
    "import numpy as np\r\n",
    "from keras.models import load_model,save_model,Sequential\r\n",
    "from keras.layers import Activation,Conv2D,Dense,Dropout,Flatten,MaxPooling2D\r\n",
    "from keras.preprocessing import image\r\n",
    "from keras.utils import to_categorical\r\n",
    "import random"
   ],
   "outputs": [],
   "metadata": {}
  },
  {
   "cell_type": "code",
   "execution_count": null,
   "source": [
    "#Params\r\n",
    "train_dir = '../dataset/train'\r\n",
    "test_dir = '../dataset/test'\r\n",
    "train_data = []\r\n",
    "test_data = []\r\n",
    "X_train = []\r\n",
    "y_train = []\r\n",
    "X_test = []\r\n",
    "y_test = []\r\n",
    "shape = [24,24,3]\r\n",
    "Categories = ['close','open']"
   ],
   "outputs": [],
   "metadata": {}
  },
  {
   "cell_type": "code",
   "execution_count": null,
   "source": [
    "def prepare_train_data():\r\n",
    "    for category in Categories:\r\n",
    "        path = os.path.join(train_dir,category)\r\n",
    "        cat_idx = Categories.index(category)\r\n",
    "        for img in os.listdir(path):\r\n",
    "            try:\r\n",
    "                image = cv2.imread(os.path.join(path,img))\r\n",
    "                image = cv2.cvtColor(image,cv2.COLOR_BGR2RGB)\r\n",
    "                image = cv2.resize(image,(24,24))\r\n",
    "                train_data.append([image,cat_idx])\r\n",
    "            except Exception as e:\r\n",
    "                pass\r\n",
    "prepare_train_data()"
   ],
   "outputs": [],
   "metadata": {}
  },
  {
   "cell_type": "code",
   "execution_count": null,
   "source": [
    "random.shuffle(train_data)"
   ],
   "outputs": [],
   "metadata": {}
  },
  {
   "cell_type": "code",
   "execution_count": null,
   "source": [
    "for features,labels in train_data:\r\n",
    "    X_train.append(features)\r\n",
    "    y_train.append(labels)"
   ],
   "outputs": [],
   "metadata": {}
  },
  {
   "cell_type": "code",
   "execution_count": null,
   "source": [
    "X_train = np.array(X_train).reshape(-1,shape[0],shape[1],shape[2])\r\n",
    "X_train = X_train/255\r\n",
    "y_cat_train = to_categorical(y_train,2)"
   ],
   "outputs": [],
   "metadata": {}
  },
  {
   "cell_type": "code",
   "execution_count": null,
   "source": [
    "def prepare_test_data():\r\n",
    "    for category in Categories:\r\n",
    "        path = os.path.join(test_dir,category)\r\n",
    "        cat_idx = Categories.index(category)\r\n",
    "        for img in os.listdir(path):\r\n",
    "            try:\r\n",
    "                image = cv2.imread(os.path.join(path,img))\r\n",
    "                image = cv2.cvtColor(image,cv2.COLOR_BGR2RGB)\r\n",
    "                image = cv2.resize(image,(24,24))\r\n",
    "                test_data.append([image,cat_idx])\r\n",
    "            except Exception as e:\r\n",
    "                pass\r\n",
    "prepare_test_data()"
   ],
   "outputs": [],
   "metadata": {}
  },
  {
   "cell_type": "code",
   "execution_count": null,
   "source": [
    "random.shuffle(test_data)"
   ],
   "outputs": [],
   "metadata": {}
  },
  {
   "cell_type": "code",
   "execution_count": null,
   "source": [
    "for features,labels in test_data:\r\n",
    "    X_test.append(features)\r\n",
    "    y_test.append(labels)"
   ],
   "outputs": [],
   "metadata": {}
  },
  {
   "cell_type": "code",
   "execution_count": null,
   "source": [
    "X_test = np.array(X_test).reshape(-1,shape[0],shape[1],shape[2])\r\n",
    "X_test=X_test/255\r\n",
    "y_cat_test = to_categorical(y_test,2)"
   ],
   "outputs": [],
   "metadata": {}
  },
  {
   "cell_type": "code",
   "execution_count": null,
   "source": [
    "def train_model():\r\n",
    "    model = Sequential()\r\n",
    "    model.add(Conv2D(filters=32,kernel_size=(3,3),input_shape=(24,24,1),activation='relu'))\r\n",
    "    model.add(MaxPooling2D(pool_size=(1,1)))\r\n",
    "    model.add(Conv2D(filters=32,kernel_size=(3,3),input_shape=(24,24,1),activation='relu'))\r\n",
    "    model.add(MaxPooling2D(pool_size=(1,1)))\r\n",
    "    model.add(Conv2D(filters=64,kernel_size=(3,3),input_shape=(24,24,1),activation='relu'))\r\n",
    "    model.add(MaxPooling2D(pool_size=(1,1)))\r\n",
    "    model.add(Dropout(0.25))\r\n",
    "    model.add(Flatten())\r\n",
    "    model.add(Dense(128,activation='relu'))\r\n",
    "    model.add(Dropout(0.25))\r\n",
    "    model.add(Dense(2,activation='softmax'))\r\n",
    "    model.compile(loss='categorical_crossentropy',optimizer='adam',metrics=['accuracy'])\r\n",
    "    model.fit(X_train,y_cat_train,epochs=15,validation_split=0.2)\r\n",
    "    return model\r\n",
    "model = train_model()"
   ],
   "outputs": [],
   "metadata": {}
  },
  {
   "cell_type": "code",
   "execution_count": null,
   "source": [
    "def save_model(model):\r\n",
    "    model.save('SafeDrive.h5')\r\n",
    "save_model(model)"
   ],
   "outputs": [],
   "metadata": {}
  }
 ]
}